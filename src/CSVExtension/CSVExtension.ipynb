{
  "cells": [
    {
      "cell_type": "markdown",
      "source": [
        "# The `CSVExtension` Sample\n",
        "\n",
        "The `CSVExtension` show you how to build an extension useful to parse a CSV file and manipulate this from C# code."
      ],
      "metadata": {}
    },
    {
      "cell_type": "code",
      "execution_count": null,
      "source": [
        "# 1. Build the project\r\n",
        "dotnet build\r\n",
        "\r\n",
        "# Pack up the NuGet package. Note, you should increment the version because the previous one, once installed, will be in your NuGet cache\r\n",
        "dotnet pack /p:PackageVersion=1.0.0\r\n",
        "\r\n",
        "# 3. Check that the package is there\r\n",
        "Get-ChildItem -Recurse CSVExtension*.nupkg"
      ],
      "outputs": [],
      "metadata": {
        "dotnet_interactive": {
          "language": "pwsh"
        }
      }
    },
    {
      "cell_type": "markdown",
      "source": [
        "Now we're ready to install the extension. We can use `#i` to add the build output folder where the package is to our NuGet sources, and then `#r` to install the package. Because we didn't specify a package version to install, it will choose the highest version available, which is why you should increment the version in the cell above if you experiment with making changes to the extension. (*You can find out more about the `#i` and `#r` directives [here](https://github.com/dotnet/interactive/blob/main/docs/nuget-overview.md).*)\n",
        "\n",
        "You'll need to change the file path in the `#i` directive in this next cell to directory on your machine where `CSVExtension.*.nupkg` was created."
      ],
      "metadata": {}
    },
    {
      "cell_type": "code",
      "execution_count": null,
      "source": [
        "#i \"nuget:D:\\repos\\CodeGenerationForAzureWithDotNet\\src\\CSVExtension\\bin\\Debug\\\"\r\n",
        "#r \"nuget:CSVExtension,1.0.0\""
      ],
      "outputs": [],
      "metadata": {
        "dotnet_interactive": {
          "language": "csharp"
        }
      }
    },
    {
      "cell_type": "markdown",
      "source": [
        "The extension output also advised us to run `#!loadcsv -h`. Extensions can add magic commands and all magic commands can provide help."
      ],
      "metadata": {}
    },
    {
      "cell_type": "code",
      "execution_count": null,
      "source": [
        "#!loadcsv -h"
      ],
      "outputs": [],
      "metadata": {
        "dotnet_interactive": {
          "language": "csharp"
        }
      }
    },
    {
      "cell_type": "markdown",
      "source": [
        "Now let's use args to run the command the way we need"
      ],
      "metadata": {}
    },
    {
      "cell_type": "code",
      "execution_count": null,
      "source": [
        "#!loadcsv -p persons.csv -s \";\" -i Person -v persons"
      ],
      "outputs": [],
      "metadata": {
        "dotnet_interactive": {
          "language": "csharp"
        }
      }
    },
    {
      "cell_type": "markdown",
      "source": [
        "Now persons variable is available with the content"
      ],
      "metadata": {}
    },
    {
      "cell_type": "code",
      "execution_count": null,
      "source": [
        "persons.Where(xx => xx.FirstName == \"John\").ToList()"
      ],
      "outputs": [],
      "metadata": {
        "dotnet_interactive": {
          "language": "csharp"
        }
      }
    }
  ],
  "metadata": {
    "kernelspec": {
      "display_name": ".NET (C#)",
      "language": "C#",
      "name": ".net-csharp"
    },
    "language_info": {
      "file_extension": ".cs",
      "mimetype": "text/x-csharp",
      "name": "C#",
      "pygments_lexer": "csharp",
      "version": "8.0"
    }
  },
  "nbformat": 4,
  "nbformat_minor": 4
}